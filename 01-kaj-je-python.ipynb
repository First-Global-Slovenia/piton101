{
  "nbformat": 4,
  "nbformat_minor": 0,
  "metadata": {
    "language_info": {
      "codemirror_mode": {
        "name": "ipython",
        "version": 3
      },
      "file_extension": ".py",
      "mimetype": "text/x-python",
      "name": "python",
      "nbconvert_exporter": "python",
      "pygments_lexer": "ipython3",
      "version": "3.9.2-final"
    },
    "orig_nbformat": 2,
    "kernelspec": {
      "name": "python3",
      "display_name": "Python 3.9.2 64-bit",
      "metadata": {
        "interpreter": {
          "hash": "767d51c1340bd893661ea55ea3124f6de3c7a262a8b4abca0554b478b1e2ff90"
        }
      }
    },
    "colab": {
      "name": "01-kaj-je-python.ipynb",
      "provenance": []
    }
  },
  "cells": [
    {
      "cell_type": "markdown",
      "metadata": {
        "id": "6ivFXTfuOL40"
      },
      "source": [
        "# Piton 101 - Kaj je Python?\n",
        "Python je tolmačen programski jezik, ki se je začel razvijati v zgodnjih 90-tih. Ker so ga razvili matematiki, se velikokrat smatra za enega izmed bolj enostavnih jezikov, vendar pa se stvar lahko kar hitro zakomplicira.\n",
        "## Namestitev\n",
        "Najnovejšo različico programskega jezika si lahko prenesete na njihovi uradni spletni strani, dostopni na tej povezavi: https://www.python.org/downloads/\n",
        "\n",
        "No, pa začnimo.\n",
        "\n"
      ]
    },
    {
      "cell_type": "markdown",
      "metadata": {
        "id": "_8mUWGm2RKja"
      },
      "source": [
        "## Kaj je program?\n",
        "Program je zaporedje ukazov, ki računalniku povedo kaj mora narediti. Ukazi se izvajajo po vrsti, najprej prvi, nato drugi in tako naprej.\n",
        "\n",
        "Začnimo z najbolj osnovnimi funkcijami vsakega programskega jezika.\n",
        "\n",
        "## Izpis\n",
        "Izpis je ena izmed najbolj ključnih funkcij vsakega programskega jezika. Z njim iz programa pridobimo uporabne rezultate. V starih časih so za to kar uporabljali tiskalnike, ki so rezultat natisnili na papir, dandanes pa imamo za to namenjene zaslone. Za izpis v programskem jeziku Python uporabljamo ukaz print."
      ]
    },
    {
      "cell_type": "code",
      "metadata": {
        "id": "ycpC4hcGOLOQ"
      },
      "source": [
        "print(\"Pozdravljen, svet!\")"
      ],
      "execution_count": null,
      "outputs": []
    },
    {
      "cell_type": "markdown",
      "metadata": {
        "id": "YSPSjtStaDTo"
      },
      "source": [
        "**1. Naloga**\n",
        "Izpišite svoje ime in priimek, naslov ter pošto vsako v svoji vrstici."
      ]
    },
    {
      "cell_type": "code",
      "metadata": {
        "id": "cXsu0CUuaOYk"
      },
      "source": [
        ""
      ],
      "execution_count": null,
      "outputs": []
    },
    {
      "cell_type": "markdown",
      "metadata": {
        "id": "wDqEwlJCguPj"
      },
      "source": [
        "## Komentar\n",
        "Komnentar je del kode, ki ga računalnik preskoči. Notri si lahko napišemo raznorazna sporočila za kasneje.\n",
        "\n",
        "Komentarji se v programskem jeziku Python označijo z znakom `#`. Vse kar se v določeni vrstici nahaja za znakom `#` bo računalnik preskočil.\n",
        "\n",
        "**Naloga 2** Opiši spodnji program s pomočjo komentarjev."
      ]
    },
    {
      "cell_type": "code",
      "metadata": {
        "id": "I_alK0xChRpR"
      },
      "source": [
        "print(\"Mount Everest je najvišja gora na svetu.\")\n",
        "print(\"Visoka je 8848,86 m in vsako leto zraste za približno 6 cm\")"
      ],
      "execution_count": null,
      "outputs": []
    },
    {
      "cell_type": "markdown",
      "metadata": {
        "id": "htK3Ufk2aPT8"
      },
      "source": [
        "## Spremenljivke\n",
        "Spremenljivke si lahko predstavljamo kot nekakšne škatle z določenim imenom, katere imajo notri shranjeno določeno vrednost. Spremenljivko nastavimo z znakom `=`. Na levi strani enačaja se nahaja ime spremenljivke, na desni pa vrednost, na katero jo nastavljamo. Primer deklaracije spremenljivke:\n"
      ]
    },
    {
      "cell_type": "code",
      "metadata": {
        "id": "mh8Jr4eydmgi"
      },
      "source": [
        "a = 3"
      ],
      "execution_count": null,
      "outputs": []
    },
    {
      "cell_type": "markdown",
      "metadata": {
        "id": "S06etilHdoDW"
      },
      "source": [
        "**Pozor!** Imena spremenljivk morajo slediti določenim pravilom:\n",
        "1. imena spremenljivk lahko vsebujejo vse črke **angleške** abecede, številke ter podčrtaje `_`,\n",
        "2. ime spremenljivke ne sme vsebovati presledkov (primer: `moje ime` ni veljavno),\n",
        "3. ime spremenljivke se ne sme začeti s številko (primer: `1sprem` ni veljavno),\n",
        "4. imena spremenljivk so občutljiva na velikost črk (primer: `a` ni enaka spremenljivka kot `A`)\n",
        "\n",
        "**2. Naloga** Ustvari 2 spremenljivki z vrednostima 3 in 7 ter ju izpiši."
      ]
    },
    {
      "cell_type": "code",
      "metadata": {
        "id": "q0O9GV7ofqAu"
      },
      "source": [
        ""
      ],
      "execution_count": null,
      "outputs": []
    },
    {
      "cell_type": "markdown",
      "metadata": {
        "id": "dDU5rhwJfrJB"
      },
      "source": [
        "Spremenljivke razdelimo v več kategorij, ki jih imenujemo tipi. Vsak tip ima določene svoje lastnosti, lahko pa tudi ustvarjamo lastne tipe spremenljivk, a o tem prihodnjič.\n",
        "\n",
        "Nekaj tipov spremenljivk:\n",
        "- integer (celo število)\n",
        "- float (število s plavajočo vejico (realno))\n",
        "- boolean (binarna spremenljivka z dvema vrednostima: `true` ali `false`)\n",
        "- string (besedilo)\n",
        "\n",
        "Tip spremenljivke se v Pythonu samodejno nastavi glede na vrednost na katero nastavimo."
      ]
    }
  ]
}