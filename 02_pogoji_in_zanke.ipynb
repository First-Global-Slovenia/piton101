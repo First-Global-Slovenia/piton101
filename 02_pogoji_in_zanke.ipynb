{
  "nbformat": 4,
  "nbformat_minor": 0,
  "metadata": {
    "colab": {
      "name": "02-pogoji-in-zanke.ipynb",
      "provenance": [],
      "collapsed_sections": [],
      "authorship_tag": "ABX9TyOQ/U2Yhf8bBI1B9RoP5GF3",
      "include_colab_link": true
    },
    "kernelspec": {
      "name": "python3",
      "display_name": "Python 3"
    },
    "language_info": {
      "name": "python"
    }
  },
  "cells": [
    {
      "cell_type": "markdown",
      "metadata": {
        "id": "view-in-github",
        "colab_type": "text"
      },
      "source": [
        "<a href=\"https://colab.research.google.com/github/First-Global-Slovenia/piton101/blob/master/02_pogoji_in_zanke.ipynb\" target=\"_parent\"><img src=\"https://colab.research.google.com/assets/colab-badge.svg\" alt=\"Open In Colab\"/></a>"
      ]
    },
    {
      "cell_type": "markdown",
      "metadata": {
        "id": "kbkiV-_sN-L0"
      },
      "source": [
        "# Piton 101 - Pogoji in zanke\n",
        "## Pogoji\n",
        "V programskih jezikih lahko določene dele programa izpustimo. Izvajamo jih samo takrat, ko je določen pogoj izpolnjen. \n",
        "\n",
        "Pogoj ima lahko 2 različni vrednosti. Izpolnjen ali neizpolnjen, pravilen ali napačen, 1 ali 0, ... v našem žargonu bomo največkrat uporabljali `True` (izpolnjen) ali `False` (neizpolnjen).\n",
        "\n",
        "### Pogojni stavek\n",
        "Z pogojnim stavkom določimo kateri del kode naj se izvede, če je pogoj znotraj stavka izpolnjen. V Pythonu pogojni stavek označimo z `if`. \n",
        "\n",
        "**Kako določimo, kateri del kode naj se izvaja ob pogoju?**\n",
        "\n",
        "V jeziku Python to določimo z **indentacijo** (zamik kode v desno). To naredimo ali s tipko `TAB` na tipkovnici ali pa z presledki (ponavadi se uporabljajo štirje).\n",
        "\n",
        "\n",
        "### Primerjalni pogojni operatorji\n",
        "Poznamo nekaj osnovnih pogojnih operatorjev, ki jim rečemo primerjalni, saj z njimi primerjamo dve vrednosti:\n",
        "- Enakost `==`\n",
        "- Nenakost `!=`\n",
        "- Večje `>`\n",
        "- Manjše `<`\n",
        "- Večje ali enako `>=`\n",
        "- Manjše ali enako `<=`"
      ]
    },
    {
      "cell_type": "code",
      "metadata": {
        "id": "UvnvsjJZZen4"
      },
      "source": [
        "a = 4\n",
        "\n",
        "if a == 3:\n",
        "    print(\"Ta del kode se izvaja\")"
      ],
      "execution_count": 3,
      "outputs": []
    }
  ]
}