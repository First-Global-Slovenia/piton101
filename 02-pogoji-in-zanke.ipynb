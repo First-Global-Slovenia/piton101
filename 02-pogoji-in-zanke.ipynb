{
  "nbformat": 4,
  "nbformat_minor": 0,
  "metadata": {
    "colab": {
      "name": "02-pogoji-in-zanke.ipynb",
      "provenance": [],
      "collapsed_sections": [],
      "authorship_tag": "ABX9TyNmDptTGpBTz7OTGa46CZqS"
    },
    "kernelspec": {
      "name": "python3",
      "display_name": "Python 3"
    },
    "language_info": {
      "name": "python"
    }
  },
  "cells": [
    {
      "cell_type": "markdown",
      "metadata": {
        "id": "kbkiV-_sN-L0"
      },
      "source": [
        "# Piton 101 - Pogoji in zanke\n",
        "## Pogoji\n",
        "V programskih jezikih lahko določene dele programa izpustimo. Izvajamo jih samo takrat, ko je določen pogoj izpolnjen. \n",
        "\n",
        "Pogoj ima lahko 2 različni vrednosti. Izpolnjen ali neizpolnjen, pravilen ali napačen, 1 ali 0, ... v našem žargonu bomo največkrat uporabljali `True` (izpolnjen) ali `False` (neizpolnjen).\n",
        "\n",
        "### Pogojni stavek\n",
        "Z pogojnim stavkom določimo kateri del kode naj se izvede, če je pogoj znotraj stavka izpolnjen. V Pythonu pogojni stavek označimo z `if`. \n",
        "\n",
        "**Kako določimo, kateri del kode naj se izvaja ob pogoju?**\n",
        "\n",
        "V jeziku Python to določimo z **indentacijo** (zamik kode v desno). To naredimo ali s tipko `TAB` na tipkovnici (levo od tipke `Q`) ali pa z presledki (ponavadi se uporabljajo štirje).\n",
        "\n",
        "### Primerjalni operatorji\n",
        "Poznamo nekaj osnovnih pogojnih operatorjev, ki jim rečemo primerjalni, saj z njimi primerjamo dve vrednosti:\n",
        "- Enakost `==`\n",
        "- Nenakost `!=`\n",
        "- Večje `>`\n",
        "- Manjše `<`\n",
        "- Večje ali enako `>=`\n",
        "- Manjše ali enako `<=`"
      ]
    },
    {
      "cell_type": "code",
      "metadata": {
        "id": "UvnvsjJZZen4"
      },
      "source": [
        "a = 4\n",
        "\n",
        "if a == 3:\n",
        "    print(\"Ta del kode se izvede\")"
      ],
      "execution_count": null,
      "outputs": []
    },
    {
      "cell_type": "markdown",
      "metadata": {
        "id": "01N7XeV7KVBt"
      },
      "source": [
        "**1. naloga** Napiši program, ki izpiše besedilo `To število je večje od 0`, če je prebrano število večje od 0.\n"
      ]
    },
    {
      "cell_type": "code",
      "metadata": {
        "id": "EhFgRqGVKkwS"
      },
      "source": [
        ""
      ],
      "execution_count": null,
      "outputs": []
    },
    {
      "cell_type": "markdown",
      "metadata": {
        "id": "r8GfLV9uKmer"
      },
      "source": [
        "### Združevanje pogojev\n",
        "Znotraj enega stavka lahko preverimo za več pogojev na več različnih načinov:\n",
        "- IN operacija (`and`) - vsi pogoji morajo biti izpolnjen\n",
        "- ALI operacija (`or`) - vsaj eden izmed pogojev mora biti izpolnjen"
      ]
    },
    {
      "cell_type": "code",
      "metadata": {
        "id": "o_bFbsQdL732"
      },
      "source": [
        "a = 6\n",
        "\n",
        "if a > 3 and a < 10:\n",
        "    print(\"A se nahaja v intervalu (3,10)\")"
      ],
      "execution_count": null,
      "outputs": []
    },
    {
      "cell_type": "markdown",
      "metadata": {
        "id": "mObQOKeSMRuq"
      },
      "source": [
        "**2. naloga** Napiši program, ki deli 2 števili. Če je deljitelj enak 0 (deljenje z nič ni definirano) naj izpiše ustrezno besedilo, v nasprotnem pa naj program izpiše rezultat deljenja."
      ]
    },
    {
      "cell_type": "code",
      "metadata": {
        "id": "LN2Ae-t0NU4J"
      },
      "source": [
        ""
      ],
      "execution_count": null,
      "outputs": []
    },
    {
      "cell_type": "markdown",
      "metadata": {
        "id": "lxzM32FlM_vS"
      },
      "source": [
        "### Stavek else\n",
        "Programski stavek else se uporablja v kombinaciji s stavkom if. V primeru da pogoj v if stavku ni izpolnjen, se izvede koda v else stavku."
      ]
    },
    {
      "cell_type": "code",
      "metadata": {
        "id": "Ym1ct2rFNVrx"
      },
      "source": [
        "a = 0\n",
        "\n",
        "if a == 1:\n",
        "    print(\"a je enak 1\")\n",
        "else:\n",
        "    print(\"a ni enak 1\")"
      ],
      "execution_count": null,
      "outputs": []
    },
    {
      "cell_type": "markdown",
      "metadata": {
        "id": "BmGeypoUNd35"
      },
      "source": [
        "**2.1. naloga** Ponovno reši drugo nalogo z novim pridobljenim znanjem."
      ]
    },
    {
      "cell_type": "code",
      "metadata": {
        "id": "yZFxCbUzOunT"
      },
      "source": [
        ""
      ],
      "execution_count": null,
      "outputs": []
    },
    {
      "cell_type": "markdown",
      "metadata": {
        "id": "3MUledVrOvAa"
      },
      "source": [
        "### Stavek elif\n",
        "Programski stavek elif se uporablja v kombinaciji s stavkom if. Beseda elif je skrajšana oblika besedne zveze `else if`. S pomočjo le tega, lahko nanizamo več pogojnih stavkov enega za drugim. Pomenbna lastnost le teh je, da ko je prvi pogoj izpolnjen, ostalih program ne bo šel preverjati in bo tisto kodo preskočil."
      ]
    },
    {
      "cell_type": "code",
      "metadata": {
        "id": "e2KRPfsjQD93"
      },
      "source": [
        "a = 4\n",
        "\n",
        "if a > 0: # če je a večji od 0, izvedi zamaknjeno kodo\n",
        "    print(\"a pozitivno število\")\n",
        "elif a < 0: # če je a manjši od 0, izvedi zamaknjeno kodo\n",
        "    print(\"a je negativno število\")\n",
        "else: # elif a == 0:\n",
        "    print(\"a je enak 0\")"
      ],
      "execution_count": null,
      "outputs": []
    },
    {
      "cell_type": "markdown",
      "metadata": {
        "id": "BCApG0xUQixc"
      },
      "source": [
        "Primer izvajanja elif stavka (ko ustreza prvemu pogoju, ostale preskoči)"
      ]
    },
    {
      "cell_type": "code",
      "metadata": {
        "id": "9wERtHsaQprp"
      },
      "source": [
        "a = -42\n",
        "\n",
        "if a < 0:\n",
        "    print(\"a je manjši od 0\")\n",
        "elif a < -10:\n",
        "    print(\"a je manjši od -10\")\n",
        "elif a < -20:\n",
        "    print(\"a je manjši od -20\")"
      ],
      "execution_count": null,
      "outputs": []
    },
    {
      "cell_type": "markdown",
      "metadata": {
        "id": "2xTNK1BzRABn"
      },
      "source": [
        "**3. naloga** Napiši program, ki vpisano število izpiše iz besedo. Da bo lažje, predpostavimo da so lahko vpisana števila samo iz intervala `[0,10]`."
      ]
    },
    {
      "cell_type": "code",
      "metadata": {
        "id": "LHqibV9LRPWW"
      },
      "source": [
        ""
      ],
      "execution_count": null,
      "outputs": []
    }
  ]
}