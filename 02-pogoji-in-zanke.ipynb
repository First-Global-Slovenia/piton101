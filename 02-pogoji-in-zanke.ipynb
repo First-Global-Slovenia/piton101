{
  "nbformat": 4,
  "nbformat_minor": 0,
  "metadata": {
    "colab": {
      "name": "02-pogoji-in-zanke.ipynb",
      "provenance": [],
      "collapsed_sections": [],
      "authorship_tag": "ABX9TyMfu+1G1gu6kC7KbFkge6Da"
    },
    "kernelspec": {
      "name": "python3",
      "display_name": "Python 3"
    },
    "language_info": {
      "name": "python"
    }
  },
  "cells": [
    {
      "cell_type": "markdown",
      "metadata": {
        "id": "kbkiV-_sN-L0"
      },
      "source": [
        "# Piton 101 - Pogoji in zanke\n",
        "## Pogoji\n",
        "V programskih jezikih lahko določene dele programa izpustimo. Izvajamo jih samo takrat, ko je določen pogoj izpolnjen. \n",
        "\n",
        "Pogoj ima lahko 2 različni vrednosti. Izpolnjen ali neizpolnjen, pravilen ali napačen, 1 ali 0, ... v našem žargonu bomo največkrat uporabljali `True` (izpolnjen) ali `False` (neizpolnjen).\n",
        "\n",
        "### Pogojni stavek\n",
        "Z pogojnim stavkom določimo kateri del kode naj se izvede, če je pogoj znotraj stavka izpolnjen. V Pythonu pogojni stavek označimo z `if`. \n",
        "\n",
        "**Kako določimo, kateri del kode naj se izvaja ob pogoju?**\n",
        "\n",
        "V jeziku Python to določimo z **indentacijo** (zamik kode v desno). To naredimo ali s tipko `TAB` na tipkovnici (levo od tipke `Q`) ali pa z presledki (ponavadi se uporabljajo štirje).\n",
        "\n",
        "### Primerjalni operatorji\n",
        "Poznamo nekaj osnovnih pogojnih operatorjev, ki jim rečemo primerjalni, saj z njimi primerjamo dve vrednosti:\n",
        "- Enakost `==`\n",
        "- Nenakost `!=`\n",
        "- Večje `>`\n",
        "- Manjše `<`\n",
        "- Večje ali enako `>=`\n",
        "- Manjše ali enako `<=`"
      ]
    },
    {
      "cell_type": "code",
      "metadata": {
        "id": "UvnvsjJZZen4"
      },
      "source": [
        "a = 4\n",
        "\n",
        "if a == 3:\n",
        "    print(\"Ta del kode se izvede\")"
      ],
      "execution_count": null,
      "outputs": []
    },
    {
      "cell_type": "markdown",
      "metadata": {
        "id": "01N7XeV7KVBt"
      },
      "source": [
        "**1. naloga** Napiši program, ki izpiše besedilo `To število je večje od 0`, če je prebrano število večje od 0.\n"
      ]
    },
    {
      "cell_type": "code",
      "metadata": {
        "id": "EhFgRqGVKkwS"
      },
      "source": [
        ""
      ],
      "execution_count": null,
      "outputs": []
    },
    {
      "cell_type": "markdown",
      "metadata": {
        "id": "r8GfLV9uKmer"
      },
      "source": [
        "### Združevanje pogojev\n",
        "Znotraj enega stavka lahko preverimo za več pogojev na več različnih načinov:\n",
        "- IN operacija (`and`) - vsi pogoji morajo biti izpolnjen\n",
        "- ALI operacija (`or`) - vsaj eden izmed pogojev mora biti izpolnjen"
      ]
    },
    {
      "cell_type": "code",
      "metadata": {
        "id": "o_bFbsQdL732"
      },
      "source": [
        "a = 6\n",
        "\n",
        "if a > 3 and a < 10:\n",
        "    print(\"A se nahaja v intervalu (3,10)\")"
      ],
      "execution_count": null,
      "outputs": []
    },
    {
      "cell_type": "markdown",
      "metadata": {
        "id": "mObQOKeSMRuq"
      },
      "source": [
        "**2. naloga** Napiši program, ki deli 2 števili. Če je deljitelj enak 0 (deljenje z nič ni definirano) naj izpiše ustrezno besedilo, v nasprotnem pa naj program izpiše rezultat deljenja."
      ]
    },
    {
      "cell_type": "code",
      "metadata": {
        "id": "LN2Ae-t0NU4J"
      },
      "source": [
        ""
      ],
      "execution_count": null,
      "outputs": []
    },
    {
      "cell_type": "markdown",
      "metadata": {
        "id": "lxzM32FlM_vS"
      },
      "source": [
        "### Stavek else\n",
        "Programski stavek else se uporablja v kombinaciji s stavkom if. V primeru da pogoj v if stavku ni izpolnjen, se izvede koda v else stavku."
      ]
    },
    {
      "cell_type": "code",
      "metadata": {
        "id": "Ym1ct2rFNVrx"
      },
      "source": [
        "a = 0\n",
        "\n",
        "if a == 1:\n",
        "    print(\"a je enak 1\")\n",
        "else:\n",
        "    print(\"a ni enak 1\")"
      ],
      "execution_count": null,
      "outputs": []
    },
    {
      "cell_type": "markdown",
      "metadata": {
        "id": "BmGeypoUNd35"
      },
      "source": [
        "**2.1. naloga** Ponovno reši drugo nalogo z novim pridobljenim znanjem."
      ]
    },
    {
      "cell_type": "code",
      "metadata": {
        "id": "yZFxCbUzOunT"
      },
      "source": [
        ""
      ],
      "execution_count": null,
      "outputs": []
    },
    {
      "cell_type": "markdown",
      "metadata": {
        "id": "3MUledVrOvAa"
      },
      "source": [
        "### Stavek elif\n",
        "Programski stavek elif se uporablja v kombinaciji s stavkom if. Beseda elif je skrajšana oblika besedne zveze `else if`. S pomočjo le tega, lahko nanizamo več pogojnih stavkov enega za drugim. Pomenbna lastnost le teh je, da ko je prvi pogoj izpolnjen, ostalih program ne bo šel preverjati in bo tisto kodo preskočil."
      ]
    },
    {
      "cell_type": "code",
      "metadata": {
        "id": "e2KRPfsjQD93"
      },
      "source": [
        "a = 4\n",
        "\n",
        "if a > 0: # če je a večji od 0, izvedi zamaknjeno kodo\n",
        "    print(\"a pozitivno število\")\n",
        "elif a < 0: # če je a manjši od 0, izvedi zamaknjeno kodo\n",
        "    print(\"a je negativno število\")\n",
        "else: # elif a == 0:\n",
        "    print(\"a je enak 0\")"
      ],
      "execution_count": null,
      "outputs": []
    },
    {
      "cell_type": "markdown",
      "metadata": {
        "id": "BCApG0xUQixc"
      },
      "source": [
        "Primer izvajanja elif stavka (ko ustreza prvemu pogoju, ostale preskoči)"
      ]
    },
    {
      "cell_type": "code",
      "metadata": {
        "id": "9wERtHsaQprp"
      },
      "source": [
        "a = -42\n",
        "\n",
        "if a < 0:\n",
        "    print(\"a je manjši od 0\")\n",
        "elif a < -10:\n",
        "    print(\"a je manjši od -10\")\n",
        "elif a < -20:\n",
        "    print(\"a je manjši od -20\")"
      ],
      "execution_count": null,
      "outputs": []
    },
    {
      "cell_type": "markdown",
      "metadata": {
        "id": "2xTNK1BzRABn"
      },
      "source": [
        "**3. naloga** Napiši program, ki vpisano število izpiše iz besedo. Da bo lažje, predpostavimo da so lahko vpisana števila samo iz intervala `[0,10]`."
      ]
    },
    {
      "cell_type": "code",
      "metadata": {
        "id": "LHqibV9LRPWW"
      },
      "source": [
        ""
      ],
      "execution_count": null,
      "outputs": []
    },
    {
      "cell_type": "markdown",
      "metadata": {
        "id": "aBHgIC8BrVhJ"
      },
      "source": [
        "## Zanke\n",
        "Zanke so programski elementi, ki izvajajo določen del kode, dokler je nek pogoj izpolnjen. Z njimi lahko kodo zelo zmanjšamo. Namesto da vpišemo 10 ukazov za vnos, lahko napišemo zanko, ki se izvede 10x.\n",
        "\n",
        "### Zanka while\n",
        "Zanka while je sestavljena iz enega pogoja. Dokler je ta pogoj izpolnjen, se indentirana koda izvaja. "
      ]
    },
    {
      "cell_type": "code",
      "metadata": {
        "id": "CN2uZMgKsOAQ"
      },
      "source": [
        "a = 0 # spremenljivki a v tem primeru rečemo števec\n",
        "\n",
        "while a < 10:\n",
        "    print(f\"Izpisujem besedilo. a: {a}\")\n",
        "    a += 1 # a = a + 1; števec povečamo za 1"
      ],
      "execution_count": null,
      "outputs": []
    },
    {
      "cell_type": "markdown",
      "metadata": {
        "id": "GmxjMSnouBwB"
      },
      "source": [
        "**4. naloga** Napiši program, ki prebere 5 števil in na koncu izpiše njihovo vsoto.\n"
      ]
    },
    {
      "cell_type": "code",
      "metadata": {
        "id": "GPIURMwTuLEn"
      },
      "source": [
        ""
      ],
      "execution_count": null,
      "outputs": []
    },
    {
      "cell_type": "markdown",
      "metadata": {
        "id": "6mnGm60twRrp"
      },
      "source": [
        "### Zanka for\n",
        "For zanka se uporablja takrat, ko se želimo sprehajati po nekem seznamu\\*.\n",
        "\n",
        "V spodnjem primeru ukaz range vrne seznam števil od 0-9. Z spremenljivko i (iterator) ob vsakem ciklu dobimo vrednost naslednjega elementa v seznamu\\*.\n",
        "\n",
        "\\* sezname si bomo pogledali bolj podrobno v naslednjem poglavju."
      ]
    },
    {
      "cell_type": "code",
      "metadata": {
        "id": "yTP2QJEzxgDI"
      },
      "source": [
        "for i in range(10):\n",
        "    print(f\"Izpisujem besedilo. i: {i}\")"
      ],
      "execution_count": null,
      "outputs": []
    },
    {
      "cell_type": "markdown",
      "metadata": {
        "id": "5EYDSqVCyb-w"
      },
      "source": [
        "#### Fibonaccijevo zaporedje\n",
        "Fibonaccijevo zaporedje je zaporedje, kjer je vrednost trenutnega elementa v zaporedju enaka vsoti prejšnjih dveh elementov v zaporedju.\n",
        "\n",
        "Prvih nekaj števil zaporedja: **1**, **1**, 2, 3, 5, 8, 13, 21, 34, 55, 89, 144, 233, 377, 610, 987, 1597, 2584, 4181, 6765, 10946, 17711\n",
        "\n",
        "**5. naloga** Napiši program, ki ti izračuna in izpiše prvih 10 števil Fibonaccijevega zaporedja."
      ]
    },
    {
      "cell_type": "code",
      "metadata": {
        "id": "4gj4twtJzdeH"
      },
      "source": [
        ""
      ],
      "execution_count": null,
      "outputs": []
    },
    {
      "cell_type": "markdown",
      "metadata": {
        "id": "a3hZY3js0Kpg"
      },
      "source": [
        "### Ukaz break in neskončna zanka\n",
        "Če znotraj zanke pokličemo ukaz break, bo ta zapustil zanko, tudi če je ta še ustrezala pogoju. Predstavljate si ga lahko kot izhod v sili.\n",
        "\n",
        "Neskončna zanka je takšna zanka, ki se nikoli ne konča. Ponavadi je to pogoj, ki je vedno veljaven. Nekaj pogojev, ki so vedno veljavni:\n",
        "* `True` - če pogoj sam nastavimo na pritrdilnost, potem je zagotovo pravilen :)\n",
        "* `1 == 1` - ena bo vedno enaka ena\n",
        "* `3 > -2` - tri bo vedno večje od minus dve\n",
        "\n"
      ]
    },
    {
      "cell_type": "code",
      "metadata": {
        "id": "zxTD7LgR1Nm4",
        "outputId": "ffe21f11-54ec-4bb5-9950-2e887ca9d71d",
        "colab": {
          "base_uri": "https://localhost:8080/"
        }
      },
      "source": [
        "a = 0\n",
        "\n",
        "while True:\n",
        "    print(a)\n",
        "    if a == 4:\n",
        "        print(\"break, zapuščam zanko\")\n",
        "        break\n",
        "    a += 1"
      ],
      "execution_count": 8,
      "outputs": [
        {
          "output_type": "stream",
          "text": [
            "0\n",
            "1\n",
            "2\n",
            "3\n",
            "4\n",
            "break, zapuščam zanko\n"
          ],
          "name": "stdout"
        }
      ]
    },
    {
      "cell_type": "markdown",
      "metadata": {
        "id": "t5DwkjXE1_Je"
      },
      "source": [
        "## Naključna števila\n",
        "Včasih želimo, da si računalnik sam izbere kakšno naključno število. Da lahko dobimo to funkcionalnost, moramo najprej uvoziti knjižnjico random.\n",
        "\n"
      ]
    },
    {
      "cell_type": "code",
      "metadata": {
        "id": "0oWCZxQs2d6e"
      },
      "source": [
        "import random # Uvoz random"
      ],
      "execution_count": null,
      "outputs": []
    },
    {
      "cell_type": "markdown",
      "metadata": {
        "id": "dnIcZAq82jAB"
      },
      "source": [
        "Če želimo dobiti eno celo število iz intervala, lahko za to uporabimo ukaz randint."
      ]
    },
    {
      "cell_type": "code",
      "metadata": {
        "id": "PFKwdJwO2rEZ"
      },
      "source": [
        "print(random.randint(1,10)) # izpiše naključno celo število iz intervala [1,10]"
      ],
      "execution_count": null,
      "outputs": []
    },
    {
      "cell_type": "markdown",
      "metadata": {
        "id": "TdFv1C38227n"
      },
      "source": [
        "**6. naloga** Napiši program, ki si izbere naključno število med 1 in 10 ter uporabnika pozove, naj to število ugane. Če uporabnik število ugotovi, naj se program zaključi po zmagovalnem izpisu."
      ]
    },
    {
      "cell_type": "code",
      "metadata": {
        "id": "T8ZBz8mm3Ndg"
      },
      "source": [
        ""
      ],
      "execution_count": null,
      "outputs": []
    },
    {
      "cell_type": "markdown",
      "metadata": {
        "id": "do6SmSqW4qhO"
      },
      "source": [
        "# Domača naloga\n",
        "Napiši program, ki uporabnika vpraša po številu in nato pove, če se število nahaja v intervalu (0, 10)"
      ]
    },
    {
      "cell_type": "code",
      "metadata": {
        "id": "imEsfFFj5Bwa"
      },
      "source": [
        ""
      ],
      "execution_count": null,
      "outputs": []
    },
    {
      "cell_type": "markdown",
      "metadata": {
        "id": "pk3N-zmG5B-g"
      },
      "source": [
        "Napiši program, ki uporabnika sprašuje po število, dokler se to število ne nahaja v intervalu [0, 10]"
      ]
    },
    {
      "cell_type": "code",
      "metadata": {
        "id": "WHwzq3Eu5MWG"
      },
      "source": [
        ""
      ],
      "execution_count": null,
      "outputs": []
    },
    {
      "cell_type": "markdown",
      "metadata": {
        "id": "xWA9Idg_5M9O"
      },
      "source": [
        "Izberite eno izmed nalog, lahko pa rešite tudi obe :)\n",
        "\n",
        "**(malo lažja)** Napiši program, ki sešteva vpisana števila, dokler ne prebere števila 0. Na koncu izpiše vsoto.\n",
        "\n",
        "**(malo težja)** Poizkusi prilagoditi program o ugibanju števil tako, da ima uporabnik 4 poizkuse. Če po števila ne ugotovi pravočasno, izpiše besedilo, da je izgubil."
      ]
    },
    {
      "cell_type": "code",
      "metadata": {
        "id": "v_rnQRom5zb2"
      },
      "source": [
        ""
      ],
      "execution_count": null,
      "outputs": []
    }
  ]
}