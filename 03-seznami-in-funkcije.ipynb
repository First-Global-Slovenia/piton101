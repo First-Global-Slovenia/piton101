{
  "nbformat": 4,
  "nbformat_minor": 0,
  "metadata": {
    "colab": {
      "name": "Untitled1.ipynb",
      "provenance": [],
      "collapsed_sections": [],
      "authorship_tag": "ABX9TyOc790xeq02XwxpLe5Ey3vV"
    },
    "kernelspec": {
      "name": "python3",
      "display_name": "Python 3"
    },
    "language_info": {
      "name": "python"
    }
  },
  "cells": [
    {
      "cell_type": "markdown",
      "metadata": {
        "id": "viz_LL0ZMaYA"
      },
      "source": [
        "# Piton 101 - Seznami in funkcije\n",
        "## Seznami\n"
      ]
    }
  ]
}