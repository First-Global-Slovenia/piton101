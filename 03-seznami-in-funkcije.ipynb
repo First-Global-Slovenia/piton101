{
  "nbformat": 4,
  "nbformat_minor": 0,
  "metadata": {
    "colab": {
      "name": "Untitled1.ipynb",
      "provenance": [],
      "collapsed_sections": [],
      "authorship_tag": "ABX9TyPVrVklAhj+BAbTx2fy34wP"
    },
    "kernelspec": {
      "name": "python3",
      "display_name": "Python 3"
    },
    "language_info": {
      "name": "python"
    }
  },
  "cells": [
    {
      "cell_type": "markdown",
      "metadata": {
        "id": "viz_LL0ZMaYA"
      },
      "source": [
        "# Piton 101 - Seznami, slovarji in funkcije\n",
        "## Seznami\n",
        "Seznami so spremenljivke, v katere lahko shranimo več vrednosti. Do posameznih vrednosti v seznamu lahko dostopamo z indeksom ali iteratorjem. Najprej si poglejmo, kako ustvarimo seznam.\n",
        "\n"
      ]
    },
    {
      "cell_type": "code",
      "metadata": {
        "id": "RGewrrMANvZS"
      },
      "source": [
        "a = [1, 3, 6, 4, 3, 2, 5, 0, -2]"
      ],
      "execution_count": null,
      "outputs": []
    },
    {
      "cell_type": "markdown",
      "metadata": {
        "id": "pk-j7Kw0OrsI"
      },
      "source": [
        "### Dostop do elementov\n",
        "#### Dostop z indeksom\n",
        "Do elementov z indeksom dostopamo tako, da za ime spremenljivke v kvadratnih oklepajih vpišemo mesto elementa, do katerega želimo dostopati.\n",
        "\n",
        "**POZOR**: Štetje elementov začenjamo z 0. To pomeni, da je prvi element na indeksu 0, drugi na 1, tretji na 2, ..."
      ]
    },
    {
      "cell_type": "code",
      "metadata": {
        "id": "WBdycw-BPekF"
      },
      "source": [
        "print(a[0]) # 1\n",
        "print(a[3]) # 4\n",
        "print(a[6]) # 5"
      ],
      "execution_count": null,
      "outputs": []
    },
    {
      "cell_type": "markdown",
      "metadata": {
        "id": "cBez-emRQZff"
      },
      "source": [
        "##### Dostop do vseh elementov\n",
        "Za dostop do vseh elementov seznama z indeksom bi za začetek potrebovali dolžino seznama. To pridobimo z ukazom len."
      ]
    },
    {
      "cell_type": "code",
      "metadata": {
        "id": "O5ezwYPmUm4-"
      },
      "source": [
        "dolzina = len(a)\n",
        "i = 0\n",
        "\n",
        "while i < dolzina:\n",
        "    print(f\"Element na mestu {i} je {a[i]}\")\n",
        "    i += 1"
      ],
      "execution_count": null,
      "outputs": []
    }
  ]
}
